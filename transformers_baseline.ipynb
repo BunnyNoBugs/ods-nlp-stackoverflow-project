{
 "cells": [
  {
   "cell_type": "code",
   "execution_count": 1,
   "id": "b13c9d887a5814f2",
   "metadata": {
    "ExecuteTime": {
     "end_time": "2024-04-27T01:43:23.308191Z",
     "start_time": "2024-04-27T01:43:23.305288Z"
    },
    "collapsed": false
   },
   "outputs": [],
   "source": [
    "import os\n",
    "os.environ['CUDA_VISIBLE_DEVICES'] = '4'"
   ]
  },
  {
   "cell_type": "code",
   "execution_count": 2,
   "id": "15deea8e9ac7ffd4",
   "metadata": {
    "ExecuteTime": {
     "end_time": "2024-04-27T01:43:25.621388Z",
     "start_time": "2024-04-27T01:43:24.055357Z"
    },
    "collapsed": false
   },
   "outputs": [
    {
     "data": {
      "text/plain": [
       "1"
      ]
     },
     "execution_count": 2,
     "metadata": {},
     "output_type": "execute_result"
    }
   ],
   "source": [
    "import torch\n",
    "torch.cuda.device_count()"
   ]
  },
  {
   "cell_type": "code",
   "execution_count": 3,
   "id": "12de4513378ad99f",
   "metadata": {
    "ExecuteTime": {
     "end_time": "2024-04-27T01:43:28.232264Z",
     "start_time": "2024-04-27T01:43:26.044988Z"
    },
    "collapsed": false
   },
   "outputs": [
    {
     "name": "stderr",
     "output_type": "stream",
     "text": [
      "\u001b[34m\u001b[1mwandb\u001b[0m: Currently logged in as: \u001b[33mbunnynobugs\u001b[0m. Use \u001b[1m`wandb login --relogin`\u001b[0m to force relogin\n"
     ]
    },
    {
     "data": {
      "text/plain": [
       "True"
      ]
     },
     "execution_count": 3,
     "metadata": {},
     "output_type": "execute_result"
    }
   ],
   "source": [
    "import wandb\n",
    "\n",
    "wandb.login()\n",
    "os.environ[\"WANDB_LOG_MODEL\"] = \"end\""
   ]
  },
  {
   "cell_type": "code",
   "execution_count": 21,
   "id": "initial_id",
   "metadata": {
    "ExecuteTime": {
     "end_time": "2024-04-27T17:32:44.958002Z",
     "start_time": "2024-04-27T17:32:44.953440Z"
    },
    "collapsed": true
   },
   "outputs": [],
   "source": [
    "from transformers import AutoModelForSequenceClassification, AutoTokenizer, DataCollatorWithPadding, Trainer, \\\n",
    "    TrainingArguments\n",
    "import pandas as pd\n",
    "from datasets import Dataset\n",
    "from sklearn.model_selection import train_test_split\n",
    "from sklearn.metrics import classification_report"
   ]
  },
  {
   "cell_type": "code",
   "execution_count": 5,
   "id": "f9af44de0168e1ce",
   "metadata": {
    "ExecuteTime": {
     "end_time": "2024-04-27T01:43:41.287753Z",
     "start_time": "2024-04-27T01:43:29.738930Z"
    },
    "collapsed": false
   },
   "outputs": [
    {
     "data": {
      "text/html": [
       "Tracking run with wandb version 0.16.6"
      ],
      "text/plain": [
       "<IPython.core.display.HTML object>"
      ]
     },
     "metadata": {},
     "output_type": "display_data"
    },
    {
     "data": {
      "text/html": [
       "Run data is saved locally in <code>/notebooks/ods-nlp-stackoverflow-project/wandb/run-20240427_044329-2u5tu2fs</code>"
      ],
      "text/plain": [
       "<IPython.core.display.HTML object>"
      ]
     },
     "metadata": {},
     "output_type": "display_data"
    },
    {
     "data": {
      "text/html": [
       "Syncing run <strong><a href='https://wandb.ai/bunnynobugs/ods-nlp-stackoverflow-project/runs/2u5tu2fs' target=\"_blank\">fluent-shape-5</a></strong> to <a href='https://wandb.ai/bunnynobugs/ods-nlp-stackoverflow-project' target=\"_blank\">Weights & Biases</a> (<a href='https://wandb.me/run' target=\"_blank\">docs</a>)<br/>"
      ],
      "text/plain": [
       "<IPython.core.display.HTML object>"
      ]
     },
     "metadata": {},
     "output_type": "display_data"
    },
    {
     "data": {
      "text/html": [
       " View project at <a href='https://wandb.ai/bunnynobugs/ods-nlp-stackoverflow-project' target=\"_blank\">https://wandb.ai/bunnynobugs/ods-nlp-stackoverflow-project</a>"
      ],
      "text/plain": [
       "<IPython.core.display.HTML object>"
      ]
     },
     "metadata": {},
     "output_type": "display_data"
    },
    {
     "data": {
      "text/html": [
       " View run at <a href='https://wandb.ai/bunnynobugs/ods-nlp-stackoverflow-project/runs/2u5tu2fs' target=\"_blank\">https://wandb.ai/bunnynobugs/ods-nlp-stackoverflow-project/runs/2u5tu2fs</a>"
      ],
      "text/plain": [
       "<IPython.core.display.HTML object>"
      ]
     },
     "metadata": {},
     "output_type": "display_data"
    },
    {
     "data": {
      "text/html": [
       "<button onClick=\"this.nextSibling.style.display='block';this.style.display='none';\">Display W&B run</button><iframe src='https://wandb.ai/bunnynobugs/ods-nlp-stackoverflow-project/runs/2u5tu2fs?jupyter=true' style='border:none;width:100%;height:420px;display:none;'></iframe>"
      ],
      "text/plain": [
       "<wandb.sdk.wandb_run.Run at 0x7f84287ec9d0>"
      ]
     },
     "execution_count": 5,
     "metadata": {},
     "output_type": "execute_result"
    }
   ],
   "source": [
    "wandb.init(\n",
    "    project='ods-nlp-stackoverflow-project'\n",
    ")"
   ]
  },
  {
   "cell_type": "code",
   "execution_count": 6,
   "id": "369f65461c4ebf38",
   "metadata": {
    "ExecuteTime": {
     "end_time": "2024-04-27T01:43:41.293023Z",
     "start_time": "2024-04-27T01:43:41.289189Z"
    },
    "collapsed": false
   },
   "outputs": [],
   "source": [
    "def classify_score(score: int):\n",
    "    if score > 0:\n",
    "        return 1\n",
    "    # elif score == 0:\n",
    "    #     return 0\n",
    "    elif score <= 0:\n",
    "        return 0"
   ]
  },
  {
   "cell_type": "code",
   "execution_count": 7,
   "id": "3e57bcac6b256dde",
   "metadata": {
    "ExecuteTime": {
     "end_time": "2024-04-27T01:44:18.473728Z",
     "start_time": "2024-04-27T01:43:44.164242Z"
    },
    "collapsed": false
   },
   "outputs": [],
   "source": [
    "train_df = pd.read_csv('data/train.csv')\n",
    "test_df = pd.read_csv('data/test.csv')\n",
    "train_df['question_full_text'] = train_df['question_title'] + ' ' + train_df['question_cleaned_text']\n",
    "test_df['question_full_text'] = test_df['question_title'] + ' ' + test_df['question_cleaned_text']\n",
    "train_df['score_class'] = train_df['answer_score'].apply(classify_score)\n",
    "test_df['score_class'] = test_df['answer_score'].apply(classify_score)"
   ]
  },
  {
   "cell_type": "code",
   "execution_count": 8,
   "id": "d6ae14945a16f178",
   "metadata": {
    "ExecuteTime": {
     "end_time": "2024-04-27T01:44:20.544433Z",
     "start_time": "2024-04-27T01:44:20.378070Z"
    },
    "collapsed": false
   },
   "outputs": [],
   "source": [
    "train_sample_df = train_df.sample(frac=0.1, random_state=42)"
   ]
  },
  {
   "cell_type": "code",
   "execution_count": 9,
   "id": "b986940f1c48865f",
   "metadata": {
    "ExecuteTime": {
     "end_time": "2024-04-27T01:44:53.598317Z",
     "start_time": "2024-04-27T01:44:21.293438Z"
    },
    "collapsed": false
   },
   "outputs": [],
   "source": [
    "train_dataset = Dataset.from_pandas(train_df)\n",
    "test_dataset = Dataset.from_pandas(test_df)"
   ]
  },
  {
   "cell_type": "code",
   "execution_count": 10,
   "id": "93d324da10aeebd",
   "metadata": {
    "ExecuteTime": {
     "end_time": "2024-04-27T01:44:53.609573Z",
     "start_time": "2024-04-27T01:44:53.600985Z"
    },
    "collapsed": false
   },
   "outputs": [],
   "source": [
    "# CONSTANTS\n",
    "model_checkpoint = 'intfloat/e5-small-v2'\n",
    "num_labels = train_df['score_class'].nunique()"
   ]
  },
  {
   "cell_type": "code",
   "execution_count": 11,
   "id": "618a51ca08ee0bd9",
   "metadata": {
    "ExecuteTime": {
     "end_time": "2024-04-27T01:44:54.916449Z",
     "start_time": "2024-04-27T01:44:53.611183Z"
    },
    "collapsed": false
   },
   "outputs": [
    {
     "name": "stderr",
     "output_type": "stream",
     "text": [
      "Some weights of BertForSequenceClassification were not initialized from the model checkpoint at intfloat/e5-small-v2 and are newly initialized: ['classifier.bias', 'classifier.weight']\n",
      "You should probably TRAIN this model on a down-stream task to be able to use it for predictions and inference.\n"
     ]
    }
   ],
   "source": [
    "tokenizer = AutoTokenizer.from_pretrained(model_checkpoint)\n",
    "model = AutoModelForSequenceClassification.from_pretrained(model_checkpoint, num_labels=num_labels)\n",
    "data_collator = DataCollatorWithPadding(tokenizer=tokenizer)"
   ]
  },
  {
   "cell_type": "code",
   "execution_count": 12,
   "id": "bfd7aedf5fe346db",
   "metadata": {
    "ExecuteTime": {
     "end_time": "2024-04-27T01:44:54.923894Z",
     "start_time": "2024-04-27T01:44:54.919573Z"
    },
    "collapsed": false
   },
   "outputs": [],
   "source": [
    "def preprocess_function(examples):\n",
    "    tokenized_inputs = tokenizer(examples['question_full_text'], examples['answer_cleaned_text'], truncation=True)\n",
    "    tokenized_inputs['label'] = examples['score_class']\n",
    "    return tokenized_inputs"
   ]
  },
  {
   "cell_type": "code",
   "execution_count": 13,
   "id": "6c2d063d6507dc50",
   "metadata": {
    "ExecuteTime": {
     "end_time": "2024-04-27T01:52:20.360200Z",
     "start_time": "2024-04-27T01:44:54.925610Z"
    },
    "collapsed": false
   },
   "outputs": [
    {
     "data": {
      "application/vnd.jupyter.widget-view+json": {
       "model_id": "f6ea10d0de0044fc8fd86b2e50578a1f",
       "version_major": 2,
       "version_minor": 0
      },
      "text/plain": [
       "Map:   0%|          | 0/888359 [00:00<?, ? examples/s]"
      ]
     },
     "metadata": {},
     "output_type": "display_data"
    },
    {
     "data": {
      "application/vnd.jupyter.widget-view+json": {
       "model_id": "667560cea7634a65965e4eb28aa31ea8",
       "version_major": 2,
       "version_minor": 0
      },
      "text/plain": [
       "Map:   0%|          | 0/98763 [00:00<?, ? examples/s]"
      ]
     },
     "metadata": {},
     "output_type": "display_data"
    }
   ],
   "source": [
    "tokenized_train_dataset = train_dataset.map(preprocess_function, batched=True)\n",
    "tokenized_test_dataset = test_dataset.map(preprocess_function, batched=True)"
   ]
  },
  {
   "cell_type": "code",
   "execution_count": 14,
   "id": "1de710396e7ef85c",
   "metadata": {
    "ExecuteTime": {
     "end_time": "2024-04-27T01:52:20.546178Z",
     "start_time": "2024-04-27T01:52:20.362019Z"
    },
    "collapsed": false
   },
   "outputs": [],
   "source": [
    "model_name = model_checkpoint.split(\"/\")[-1]\n",
    "training_args = TrainingArguments(\n",
    "    output_dir=f'{model_name}-finetuned',\n",
    "    overwrite_output_dir=False,\n",
    "    learning_rate=2e-5,\n",
    "    per_device_train_batch_size=32,\n",
    "    per_device_eval_batch_size=32,\n",
    "    num_train_epochs=2,\n",
    "    weight_decay=0.01,\n",
    "    evaluation_strategy=\"epoch\",\n",
    "    save_strategy=\"epoch\",\n",
    "    load_best_model_at_end=True\n",
    ")"
   ]
  },
  {
   "cell_type": "code",
   "execution_count": 15,
   "id": "a64d6ce58cae8f79",
   "metadata": {
    "ExecuteTime": {
     "end_time": "2024-04-27T01:52:22.097179Z",
     "start_time": "2024-04-27T01:52:20.547865Z"
    },
    "collapsed": false
   },
   "outputs": [
    {
     "name": "stderr",
     "output_type": "stream",
     "text": [
      "Detected kernel version 4.15.0, which is below the recommended minimum of 5.5.0; this can cause the process to hang. It is recommended to upgrade the kernel to the minimum version or higher.\n"
     ]
    }
   ],
   "source": [
    "trainer = Trainer(\n",
    "    model=model,\n",
    "    args=training_args,\n",
    "    train_dataset=tokenized_train_dataset,\n",
    "    eval_dataset=tokenized_test_dataset,\n",
    "    tokenizer=tokenizer,\n",
    "    data_collator=data_collator,\n",
    "    # compute_metrics=compute_metrics,\n",
    ")"
   ]
  },
  {
   "cell_type": "code",
   "execution_count": null,
   "id": "8b84275dc3e958dd",
   "metadata": {
    "ExecuteTime": {
     "start_time": "2024-04-27T01:52:49.559545Z"
    },
    "collapsed": false,
    "is_executing": true
   },
   "outputs": [
    {
     "data": {
      "text/html": [
       "\n",
       "    <div>\n",
       "      \n",
       "      <progress value='97' max='55524' style='width:300px; height:20px; vertical-align: middle;'></progress>\n",
       "      [   97/55524 00:40 < 6:35:53, 2.33 it/s, Epoch 0.00/2]\n",
       "    </div>\n",
       "    <table border=\"1\" class=\"dataframe\">\n",
       "  <thead>\n",
       " <tr style=\"text-align: left;\">\n",
       "      <th>Epoch</th>\n",
       "      <th>Training Loss</th>\n",
       "      <th>Validation Loss</th>\n",
       "    </tr>\n",
       "  </thead>\n",
       "  <tbody>\n",
       "  </tbody>\n",
       "</table><p>"
      ],
      "text/plain": [
       "<IPython.core.display.HTML object>"
      ]
     },
     "metadata": {},
     "output_type": "display_data"
    }
   ],
   "source": [
    "trainer.train()"
   ]
  },
  {
   "cell_type": "code",
   "execution_count": 35,
   "id": "fe0ee0266ca88da7",
   "metadata": {
    "ExecuteTime": {
     "end_time": "2024-04-27T17:39:56.493087Z",
     "start_time": "2024-04-27T17:39:50.557831Z"
    },
    "collapsed": false
   },
   "outputs": [
    {
     "data": {
      "application/vnd.jupyter.widget-view+json": {
       "model_id": "fb6ee56545304f72b2aff209253cea4b",
       "version_major": 2,
       "version_minor": 0
      },
      "text/plain": [
       "VBox(children=(Label(value='0.010 MB of 0.010 MB uploaded\\r'), FloatProgress(value=1.0, max=1.0)))"
      ]
     },
     "metadata": {},
     "output_type": "display_data"
    },
    {
     "data": {
      "text/html": [
       "<style>\n",
       "    table.wandb td:nth-child(1) { padding: 0 10px; text-align: left ; width: auto;} td:nth-child(2) {text-align: left ; width: 100%}\n",
       "    .wandb-row { display: flex; flex-direction: row; flex-wrap: wrap; justify-content: flex-start; width: 100% }\n",
       "    .wandb-col { display: flex; flex-direction: column; flex-basis: 100%; flex: 1; padding: 10px; }\n",
       "    </style>\n",
       "<div class=\"wandb-row\"><div class=\"wandb-col\"><h3>Run history:</h3><br/><table class=\"wandb\"><tr><td>eval/loss</td><td>█▁</td></tr><tr><td>eval/runtime</td><td>█▁</td></tr><tr><td>eval/samples_per_second</td><td>▁█</td></tr><tr><td>eval/steps_per_second</td><td>▁█</td></tr><tr><td>train/epoch</td><td>▁▁▁▂▂▂▂▂▂▃▃▃▃▃▄▄▄▄▄▄▅▅▅▅▅▆▆▆▆▆▆▇▇▇▇▇████</td></tr><tr><td>train/global_step</td><td>▁▁▁▂▂▂▂▂▂▃▃▃▃▃▄▄▄▄▄▄▅▅▅▅▅▆▆▆▆▆▆▇▇▇▇▇████</td></tr><tr><td>train/grad_norm</td><td>▁▂▂▂▄▃▂▂▂▃▄▂▂▃▃▃▃▃▃▅▅▄▅▆▃▅▄▅▃▅▄▆▄█▃▄▃▆▄▄</td></tr><tr><td>train/learning_rate</td><td>███▇▇▇▇▇▇▆▆▆▆▆▆▅▅▅▅▅▄▄▄▄▄▄▃▃▃▃▃▂▂▂▂▂▂▁▁▁</td></tr><tr><td>train/loss</td><td>█▆▆▅▅▅▅▅▄▄▄▄▄▄▄▃▃▄▃▃▃▂▃▂▂▃▁▂▂▃▂▂▁▂▂▂▂▂▂▂</td></tr></table><br/></div><div class=\"wandb-col\"><h3>Run summary:</h3><br/><table class=\"wandb\"><tr><td>eval/loss</td><td>0.59132</td></tr><tr><td>eval/runtime</td><td>500.3338</td></tr><tr><td>eval/samples_per_second</td><td>197.394</td></tr><tr><td>eval/steps_per_second</td><td>6.17</td></tr><tr><td>total_flos</td><td>1.1703723738041672e+17</td></tr><tr><td>train/epoch</td><td>2.0</td></tr><tr><td>train/global_step</td><td>55524</td></tr><tr><td>train/grad_norm</td><td>1.53055</td></tr><tr><td>train/learning_rate</td><td>0.0</td></tr><tr><td>train/loss</td><td>0.5801</td></tr><tr><td>train_loss</td><td>0.58985</td></tr><tr><td>train_runtime</td><td>24886.2091</td></tr><tr><td>train_samples_per_second</td><td>71.394</td></tr><tr><td>train_steps_per_second</td><td>2.231</td></tr></table><br/></div></div>"
      ],
      "text/plain": [
       "<IPython.core.display.HTML object>"
      ]
     },
     "metadata": {},
     "output_type": "display_data"
    },
    {
     "data": {
      "text/html": [
       " View run <strong style=\"color:#cdcd00\">stilted-surf-7</strong> at: <a href='https://wandb.ai/bunnynobugs/ods-nlp-stackoverflow-project/runs/njp0kyfu' target=\"_blank\">https://wandb.ai/bunnynobugs/ods-nlp-stackoverflow-project/runs/njp0kyfu</a><br/> View project at: <a href='https://wandb.ai/bunnynobugs/ods-nlp-stackoverflow-project' target=\"_blank\">https://wandb.ai/bunnynobugs/ods-nlp-stackoverflow-project</a><br/>Synced 6 W&B file(s), 0 media file(s), 0 artifact file(s) and 0 other file(s)"
      ],
      "text/plain": [
       "<IPython.core.display.HTML object>"
      ]
     },
     "metadata": {},
     "output_type": "display_data"
    },
    {
     "data": {
      "text/html": [
       "Find logs at: <code>./wandb/run-20240427_050900-njp0kyfu/logs</code>"
      ],
      "text/plain": [
       "<IPython.core.display.HTML object>"
      ]
     },
     "metadata": {},
     "output_type": "display_data"
    }
   ],
   "source": [
    "wandb.finish()"
   ]
  },
  {
   "cell_type": "code",
   "execution_count": 20,
   "id": "e94d9513de481c50",
   "metadata": {
    "ExecuteTime": {
     "end_time": "2024-04-27T17:32:44.951188Z",
     "start_time": "2024-04-27T17:24:20.210394Z"
    },
    "collapsed": false
   },
   "outputs": [
    {
     "data": {
      "text/html": [],
      "text/plain": [
       "<IPython.core.display.HTML object>"
      ]
     },
     "metadata": {},
     "output_type": "display_data"
    }
   ],
   "source": [
    "test_pred = trainer.predict(tokenized_test_dataset)"
   ]
  },
  {
   "cell_type": "code",
   "execution_count": 34,
   "id": "2e47a4401c319ed6",
   "metadata": {
    "ExecuteTime": {
     "end_time": "2024-04-27T17:35:30.507590Z",
     "start_time": "2024-04-27T17:35:30.379633Z"
    },
    "collapsed": false
   },
   "outputs": [
    {
     "name": "stdout",
     "output_type": "stream",
     "text": [
      "              precision    recall  f1-score   support\n",
      "\n",
      "           0       0.59      0.27      0.37     33588\n",
      "           1       0.71      0.90      0.79     65175\n",
      "\n",
      "    accuracy                           0.69     98763\n",
      "   macro avg       0.65      0.59      0.58     98763\n",
      "weighted avg       0.67      0.69      0.65     98763\n"
     ]
    }
   ],
   "source": [
    "print(classification_report(test_pred.label_ids, test_pred.predictions.argmax(axis=1)))"
   ]
  },
  {
   "cell_type": "code",
   "id": "a54afb24c933295f",
   "metadata": {
    "collapsed": false
   },
   "outputs": [],
   "source": []
  }
 ],
 "metadata": {
  "kernelspec": {
   "display_name": "Python 3",
   "language": "python",
   "name": "python3"
  },
  "language_info": {
   "codemirror_mode": {
    "name": "ipython",
    "version": 2
   },
   "file_extension": ".py",
   "mimetype": "text/x-python",
   "name": "python",
   "nbconvert_exporter": "python",
   "pygments_lexer": "ipython2",
   "version": "2.7.6"
  }
 },
 "nbformat": 4,
 "nbformat_minor": 5
}
