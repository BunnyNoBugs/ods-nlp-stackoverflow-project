{
 "cells": [
  {
   "cell_type": "code",
   "execution_count": 1,
   "id": "initial_id",
   "metadata": {
    "collapsed": true,
    "ExecuteTime": {
     "end_time": "2024-04-25T18:07:20.226606Z",
     "start_time": "2024-04-25T18:07:19.370162Z"
    }
   },
   "outputs": [],
   "source": [
    "import pandas as pd\n",
    "from sklearn.model_selection import GroupShuffleSplit"
   ]
  },
  {
   "cell_type": "code",
   "outputs": [],
   "source": [
    "qa_df = pd.read_csv('data/answers_and_questions.csv')"
   ],
   "metadata": {
    "collapsed": false,
    "ExecuteTime": {
     "end_time": "2024-04-25T18:07:57.717253Z",
     "start_time": "2024-04-25T18:07:20.230605Z"
    }
   },
   "id": "669a562cc5fa3a1",
   "execution_count": 2
  },
  {
   "cell_type": "code",
   "outputs": [
    {
     "data": {
      "text/plain": "1055166"
     },
     "execution_count": 19,
     "metadata": {},
     "output_type": "execute_result"
    }
   ],
   "source": [
    "len(qa_df)"
   ],
   "metadata": {
    "collapsed": false,
    "ExecuteTime": {
     "end_time": "2024-04-25T17:41:00.942434Z",
     "start_time": "2024-04-25T17:41:00.931217Z"
    }
   },
   "id": "ded0ba416c34882e",
   "execution_count": 19
  },
  {
   "cell_type": "code",
   "outputs": [
    {
     "data": {
      "text/plain": "   question_id         question_date  question_score  \\\n0          469  2008-08-02T15:11:16Z              21   \n1          469  2008-08-02T15:11:16Z              21   \n2          469  2008-08-02T15:11:16Z              21   \n3          469  2008-08-02T15:11:16Z              21   \n4          502  2008-08-02T17:01:58Z              27   \n\n                                      question_title  \\\n0  How can I find the full path to a font from it...   \n1  How can I find the full path to a font from it...   \n2  How can I find the full path to a font from it...   \n3  How can I find the full path to a font from it...   \n4            Get a preview JPEG of a PDF on Windows?   \n\n                                       question_text  \\\n0  <p>I am using the Photoshop's javascript API t...   \n1  <p>I am using the Photoshop's javascript API t...   \n2  <p>I am using the Photoshop's javascript API t...   \n3  <p>I am using the Photoshop's javascript API t...   \n4  <p>I have a cross-platform (Python) applicatio...   \n\n                               question_cleaned_text  answer_id  \\\n0  i am using the photoshop's javascript api to f...      497.0   \n1  i am using the photoshop's javascript api to f...      518.0   \n2  i am using the photoshop's javascript api to f...     3040.0   \n3  i am using the photoshop's javascript api to f...   195170.0   \n4  i have a cross-platform (python) application w...      536.0   \n\n            answer_date  answer_score  \\\n0  2008-08-02T16:56:53Z           4.0   \n1  2008-08-02T17:42:28Z           2.0   \n2  2008-08-06T03:01:23Z          12.0   \n3  2008-10-12T07:02:40Z           1.0   \n4  2008-08-02T18:49:07Z           9.0   \n\n                                         answer_text  \\\n0  <p>open up a terminal (Applications-&gt;Utilit...   \n1  <p>I haven't been able to find anything that d...   \n2  <p>Unfortunately the only API that isn't depre...   \n3  <p>There must be a method in Cocoa to get a li...   \n4  <p>You can use ImageMagick's convert utility f...   \n\n                                 answer_cleaned_text  \n0  open up a terminal (applications-&gt;utilities...  \n1  i have not been able to find anything that doe...  \n2  unfortunately the only api that is not depreca...  \n3  there must be a method in cocoa to get a list ...  \n4  you can use imagemagick's convert utility for ...  ",
      "text/html": "<div>\n<style scoped>\n    .dataframe tbody tr th:only-of-type {\n        vertical-align: middle;\n    }\n\n    .dataframe tbody tr th {\n        vertical-align: top;\n    }\n\n    .dataframe thead th {\n        text-align: right;\n    }\n</style>\n<table border=\"1\" class=\"dataframe\">\n  <thead>\n    <tr style=\"text-align: right;\">\n      <th></th>\n      <th>question_id</th>\n      <th>question_date</th>\n      <th>question_score</th>\n      <th>question_title</th>\n      <th>question_text</th>\n      <th>question_cleaned_text</th>\n      <th>answer_id</th>\n      <th>answer_date</th>\n      <th>answer_score</th>\n      <th>answer_text</th>\n      <th>answer_cleaned_text</th>\n    </tr>\n  </thead>\n  <tbody>\n    <tr>\n      <th>0</th>\n      <td>469</td>\n      <td>2008-08-02T15:11:16Z</td>\n      <td>21</td>\n      <td>How can I find the full path to a font from it...</td>\n      <td>&lt;p&gt;I am using the Photoshop's javascript API t...</td>\n      <td>i am using the photoshop's javascript api to f...</td>\n      <td>497.0</td>\n      <td>2008-08-02T16:56:53Z</td>\n      <td>4.0</td>\n      <td>&lt;p&gt;open up a terminal (Applications-&amp;gt;Utilit...</td>\n      <td>open up a terminal (applications-&amp;gt;utilities...</td>\n    </tr>\n    <tr>\n      <th>1</th>\n      <td>469</td>\n      <td>2008-08-02T15:11:16Z</td>\n      <td>21</td>\n      <td>How can I find the full path to a font from it...</td>\n      <td>&lt;p&gt;I am using the Photoshop's javascript API t...</td>\n      <td>i am using the photoshop's javascript api to f...</td>\n      <td>518.0</td>\n      <td>2008-08-02T17:42:28Z</td>\n      <td>2.0</td>\n      <td>&lt;p&gt;I haven't been able to find anything that d...</td>\n      <td>i have not been able to find anything that doe...</td>\n    </tr>\n    <tr>\n      <th>2</th>\n      <td>469</td>\n      <td>2008-08-02T15:11:16Z</td>\n      <td>21</td>\n      <td>How can I find the full path to a font from it...</td>\n      <td>&lt;p&gt;I am using the Photoshop's javascript API t...</td>\n      <td>i am using the photoshop's javascript api to f...</td>\n      <td>3040.0</td>\n      <td>2008-08-06T03:01:23Z</td>\n      <td>12.0</td>\n      <td>&lt;p&gt;Unfortunately the only API that isn't depre...</td>\n      <td>unfortunately the only api that is not depreca...</td>\n    </tr>\n    <tr>\n      <th>3</th>\n      <td>469</td>\n      <td>2008-08-02T15:11:16Z</td>\n      <td>21</td>\n      <td>How can I find the full path to a font from it...</td>\n      <td>&lt;p&gt;I am using the Photoshop's javascript API t...</td>\n      <td>i am using the photoshop's javascript api to f...</td>\n      <td>195170.0</td>\n      <td>2008-10-12T07:02:40Z</td>\n      <td>1.0</td>\n      <td>&lt;p&gt;There must be a method in Cocoa to get a li...</td>\n      <td>there must be a method in cocoa to get a list ...</td>\n    </tr>\n    <tr>\n      <th>4</th>\n      <td>502</td>\n      <td>2008-08-02T17:01:58Z</td>\n      <td>27</td>\n      <td>Get a preview JPEG of a PDF on Windows?</td>\n      <td>&lt;p&gt;I have a cross-platform (Python) applicatio...</td>\n      <td>i have a cross-platform (python) application w...</td>\n      <td>536.0</td>\n      <td>2008-08-02T18:49:07Z</td>\n      <td>9.0</td>\n      <td>&lt;p&gt;You can use ImageMagick's convert utility f...</td>\n      <td>you can use imagemagick's convert utility for ...</td>\n    </tr>\n  </tbody>\n</table>\n</div>"
     },
     "execution_count": 4,
     "metadata": {},
     "output_type": "execute_result"
    }
   ],
   "source": [
    "qa_df.head()"
   ],
   "metadata": {
    "collapsed": false,
    "ExecuteTime": {
     "end_time": "2024-04-25T13:56:14.313434Z",
     "start_time": "2024-04-25T13:56:14.292434Z"
    }
   },
   "id": "790fc8207fff7aa9",
   "execution_count": 4
  },
  {
   "cell_type": "code",
   "outputs": [
    {
     "data": {
      "text/plain": "count    987122.000000\nmean          3.028437\nstd          21.263246\nmin         -38.000000\n25%           0.000000\n50%           1.000000\n75%           3.000000\nmax        8384.000000\nName: answer_score, dtype: float64"
     },
     "execution_count": 5,
     "metadata": {},
     "output_type": "execute_result"
    }
   ],
   "source": [
    "qa_df['answer_score'].describe()"
   ],
   "metadata": {
    "collapsed": false,
    "ExecuteTime": {
     "end_time": "2024-04-25T13:56:29.760028Z",
     "start_time": "2024-04-25T13:56:29.695034Z"
    }
   },
   "id": "5f2ed9f53bfc6b85",
   "execution_count": 5
  },
  {
   "cell_type": "code",
   "outputs": [
    {
     "data": {
      "text/plain": "<AxesSubplot:>"
     },
     "execution_count": 15,
     "metadata": {},
     "output_type": "execute_result"
    },
    {
     "data": {
      "text/plain": "<Figure size 432x288 with 1 Axes>",
      "image/png": "[encoded data removed]"
     },
     "metadata": {
      "needs_background": "light"
     },
     "output_type": "display_data"
    }
   ],
   "source": [
    "qa_df['answer_score'][qa_df['answer_score'] < 1].hist(bins=30)"
   ],
   "metadata": {
    "collapsed": false,
    "ExecuteTime": {
     "end_time": "2024-04-25T13:57:35.050226Z",
     "start_time": "2024-04-25T13:57:34.894198Z"
    }
   },
   "id": "62dfb27ada665c49",
   "execution_count": 15
  },
  {
   "cell_type": "code",
   "outputs": [
    {
     "data": {
      "text/plain": "607282"
     },
     "execution_count": 18,
     "metadata": {},
     "output_type": "execute_result"
    }
   ],
   "source": [
    "qa_df['question_id'].nunique()"
   ],
   "metadata": {
    "collapsed": false,
    "ExecuteTime": {
     "end_time": "2024-04-25T17:40:53.483208Z",
     "start_time": "2024-04-25T17:40:53.442056Z"
    }
   },
   "id": "702f1215fa20e5e7",
   "execution_count": 18
  },
  {
   "cell_type": "markdown",
   "source": [
    "## Create sample dataset"
   ],
   "metadata": {
    "collapsed": false
   },
   "id": "8d7129ef2ad950c8"
  },
  {
   "cell_type": "code",
   "outputs": [],
   "source": [
    "sample_gss = GroupShuffleSplit(n_splits=1, test_size=0.1, random_state=42)"
   ],
   "metadata": {
    "collapsed": false,
    "ExecuteTime": {
     "end_time": "2024-04-25T18:08:48.751978Z",
     "start_time": "2024-04-25T18:08:48.740587Z"
    }
   },
   "id": "8f2296e4c762b655",
   "execution_count": 12
  },
  {
   "cell_type": "code",
   "outputs": [],
   "source": [
    "splits = sample_gss.split(qa_df, groups=qa_df['question_id'])\n",
    "for split in splits:\n",
    "    _, sample_dataset_ids = split"
   ],
   "metadata": {
    "collapsed": false,
    "ExecuteTime": {
     "end_time": "2024-04-25T18:08:49.600423Z",
     "start_time": "2024-04-25T18:08:49.389726Z"
    }
   },
   "id": "ddcef8bda2360ab0",
   "execution_count": 13
  },
  {
   "cell_type": "code",
   "outputs": [],
   "source": [
    "sample_df = qa_df.iloc[sample_dataset_ids]\n",
    "sample_df = sample_df.dropna()"
   ],
   "metadata": {
    "collapsed": false,
    "ExecuteTime": {
     "end_time": "2024-04-25T18:08:50.352452Z",
     "start_time": "2024-04-25T18:08:50.202539Z"
    }
   },
   "id": "db0327229e8713e6",
   "execution_count": 14
  },
  {
   "cell_type": "code",
   "outputs": [],
   "source": [
    "train_test_gss = GroupShuffleSplit(n_splits=1, test_size=0.2, random_state=42)"
   ],
   "metadata": {
    "collapsed": false,
    "ExecuteTime": {
     "end_time": "2024-04-25T18:09:09.464355Z",
     "start_time": "2024-04-25T18:09:09.454309Z"
    }
   },
   "id": "da2c51653d0c75f3",
   "execution_count": 15
  },
  {
   "cell_type": "code",
   "outputs": [],
   "source": [
    "splits = train_test_gss.split(sample_df, groups=sample_df['question_id'])\n",
    "for split in splits:\n",
    "    sample_train_ids, sample_test_ids = split"
   ],
   "metadata": {
    "collapsed": false,
    "ExecuteTime": {
     "end_time": "2024-04-25T18:09:11.851518Z",
     "start_time": "2024-04-25T18:09:11.822550Z"
    }
   },
   "id": "681fd898b0e28512",
   "execution_count": 16
  },
  {
   "cell_type": "code",
   "outputs": [],
   "source": [
    "sample_train_df = sample_df.iloc[sample_train_ids]\n",
    "sample_test_df = sample_df.iloc[sample_test_ids]"
   ],
   "metadata": {
    "collapsed": false,
    "ExecuteTime": {
     "end_time": "2024-04-25T18:09:12.478388Z",
     "start_time": "2024-04-25T18:09:12.454357Z"
    }
   },
   "id": "b9a62b0b82ea430e",
   "execution_count": 17
  },
  {
   "cell_type": "code",
   "outputs": [],
   "source": [
    "sample_train_df.to_csv('data/sample_train.csv', index=False)\n",
    "sample_test_df.to_csv('data/sample_test.csv', index=False)"
   ],
   "metadata": {
    "collapsed": false,
    "ExecuteTime": {
     "end_time": "2024-04-25T18:09:19.611191Z",
     "start_time": "2024-04-25T18:09:12.918550Z"
    }
   },
   "id": "f758535e0013f9e3",
   "execution_count": 18
  },
  {
   "cell_type": "code",
   "outputs": [],
   "source": [],
   "metadata": {
    "collapsed": false
   },
   "id": "8e97d199c9d300b0"
  }
 ],
 "metadata": {
  "kernelspec": {
   "display_name": "Python 3",
   "language": "python",
   "name": "python3"
  },
  "language_info": {
   "codemirror_mode": {
    "name": "ipython",
    "version": 2
   },
   "file_extension": ".py",
   "mimetype": "text/x-python",
   "name": "python",
   "nbconvert_exporter": "python",
   "pygments_lexer": "ipython2",
   "version": "2.7.6"
  }
 },
 "nbformat": 4,
 "nbformat_minor": 5
}
